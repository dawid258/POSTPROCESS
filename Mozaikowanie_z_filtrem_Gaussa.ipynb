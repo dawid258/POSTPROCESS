{
  "nbformat": 4,
  "nbformat_minor": 0,
  "metadata": {
    "colab": {
      "provenance": [],
      "collapsed_sections": [
        "FO1Pwb1585Pq",
        "o4ga4wQL88Gn",
        "yPewGvub-fqa",
        "f7U0J_TlLLTW"
      ],
      "mount_file_id": "1Q89irPMIwUXvniojU56rnCL41fEHcyTy",
      "authorship_tag": "ABX9TyOPUCbLqzT5HdKRBWCPHKuU",
      "include_colab_link": true
    },
    "kernelspec": {
      "name": "python3",
      "display_name": "Python 3"
    },
    "language_info": {
      "name": "python"
    }
  },
  "cells": [
    {
      "cell_type": "markdown",
      "metadata": {
        "id": "view-in-github",
        "colab_type": "text"
      },
      "source": [
        "<a href=\"https://colab.research.google.com/github/dawid258/POSTPROCESS/blob/main/Mozaikowanie_z_filtrem_Gaussa.ipynb\" target=\"_parent\"><img src=\"https://colab.research.google.com/assets/colab-badge.svg\" alt=\"Open In Colab\"/></a>"
      ]
    },
    {
      "cell_type": "code",
      "source": [
        "!pip install rasterio --quiet"
      ],
      "metadata": {
        "id": "HKg42-WM1Y24",
        "colab": {
          "base_uri": "https://localhost:8080/"
        },
        "outputId": "0cb67d53-4c3e-4607-8846-a688350e6d63"
      },
      "execution_count": null,
      "outputs": [
        {
          "output_type": "stream",
          "name": "stdout",
          "text": [
            "\u001b[2K   \u001b[90m━━━━━━━━━━━━━━━━━━━━━━━━━━━━━━━━━━━━━━━━\u001b[0m \u001b[32m22.2/22.2 MB\u001b[0m \u001b[31m29.9 MB/s\u001b[0m eta \u001b[36m0:00:00\u001b[0m\n",
            "\u001b[?25h"
          ]
        }
      ]
    },
    {
      "cell_type": "markdown",
      "source": [
        "#Przytnij raster"
      ],
      "metadata": {
        "id": "yPewGvub-fqa"
      }
    },
    {
      "cell_type": "code",
      "source": [
        "# 1. Zainstaluj GDAL\n",
        "!pip install GDAL\n",
        "\n",
        "# 2. Zaimportuj i przytnij\n",
        "from osgeo import gdal\n",
        "\n",
        "input_raster  = '/content/pila_mozaika.tif'\n",
        "mask_vector   = '/content/m_Pila_epsg_2180.gpkg'\n",
        "output_raster = '/content/Pila_solar_cut.tif'\n",
        "\n",
        "# Wywołanie przycięcia\n",
        "gdal.Warp(\n",
        "    output_raster,\n",
        "    input_raster,\n",
        "    cutlineDSName=mask_vector,\n",
        "    cropToCutline=True\n",
        ")\n",
        "\n",
        "print(\"Zapisano:\", output_raster)\n"
      ],
      "metadata": {
        "colab": {
          "base_uri": "https://localhost:8080/"
        },
        "id": "ObjbgHhoBq5t",
        "outputId": "92fcf5ae-782c-4220-8ded-354546a29fa0"
      },
      "execution_count": null,
      "outputs": [
        {
          "output_type": "stream",
          "name": "stdout",
          "text": [
            "Requirement already satisfied: GDAL in /usr/local/lib/python3.11/dist-packages (3.8.4)\n"
          ]
        },
        {
          "output_type": "stream",
          "name": "stderr",
          "text": [
            "/usr/local/lib/python3.11/dist-packages/osgeo/gdal.py:312: FutureWarning: Neither gdal.UseExceptions() nor gdal.DontUseExceptions() has been explicitly called. In GDAL 4.0, exceptions will be enabled by default.\n",
            "  warnings.warn(\n"
          ]
        },
        {
          "output_type": "stream",
          "name": "stdout",
          "text": [
            "Zapisano: /content/Pila_solar_cut.tif\n"
          ]
        }
      ]
    },
    {
      "cell_type": "code",
      "source": [
        "# 1. Zainstaluj GDAL\n",
        "!pip install GDAL\n",
        "\n",
        "# 2. Zaimportuj i przytnij\n",
        "from osgeo import gdal\n",
        "\n",
        "input_raster  = '/content/Pila_solar_cut.tif'\n",
        "mask_vector   = '/content/budynki_v2_roof_height_v2.gpkg'\n",
        "output_raster = '/content/Pila_solar_buldings.tif'\n",
        "\n",
        "# Wywołanie przycięcia\n",
        "gdal.Warp(\n",
        "    output_raster,\n",
        "    input_raster,\n",
        "    cutlineDSName=mask_vector,\n",
        "    cropToCutline=True\n",
        ")\n",
        "\n",
        "print(\"Zapisano:\", output_raster)\n"
      ],
      "metadata": {
        "colab": {
          "base_uri": "https://localhost:8080/"
        },
        "id": "NkPl9I10GEGC",
        "outputId": "5db09083-6060-4742-bf9a-9a99e9af033e"
      },
      "execution_count": null,
      "outputs": [
        {
          "output_type": "stream",
          "name": "stdout",
          "text": [
            "Requirement already satisfied: GDAL in /usr/local/lib/python3.11/dist-packages (3.8.4)\n"
          ]
        },
        {
          "output_type": "stream",
          "name": "stderr",
          "text": [
            "/usr/local/lib/python3.11/dist-packages/osgeo/gdal.py:312: FutureWarning: Neither gdal.UseExceptions() nor gdal.DontUseExceptions() has been explicitly called. In GDAL 4.0, exceptions will be enabled by default.\n",
            "  warnings.warn(\n"
          ]
        },
        {
          "output_type": "stream",
          "name": "stdout",
          "text": [
            "Zapisano: /content/Pila_solar_buldings.tif\n"
          ]
        }
      ]
    },
    {
      "cell_type": "markdown",
      "source": [
        "#Klasyfikacja"
      ],
      "metadata": {
        "id": "f7U0J_TlLLTW"
      }
    },
    {
      "cell_type": "markdown",
      "source": [
        "#gauss min"
      ],
      "metadata": {
        "id": "roBLlq3MLJcN"
      }
    },
    {
      "cell_type": "code",
      "source": [
        "import os\n",
        "import glob\n",
        "import numpy as np\n",
        "import rasterio\n",
        "from rasterio.transform import from_origin\n",
        "import tempfile\n",
        "import shutil\n",
        "from tqdm import tqdm\n",
        "import psutil\n",
        "import gc\n",
        "\n",
        "def mosaic_with_gauss_grid(input_folder: str,\n",
        "                           output_path: str,\n",
        "                           feather_px: int = 20,\n",
        "                           tile_size: int = 2048,\n",
        "                           cleanup_temp: bool = True):\n",
        "    \"\"\"\n",
        "    Mozaikowanie kafelków z wyborem niższych wartości i gaussowskim blendowaniem krawędzi\n",
        "    z wykorzystaniem plików tymczasowych dla efektywnego zarządzania pamięcią.\n",
        "\n",
        "    Args:\n",
        "        input_folder: Folder z plikami .tif\n",
        "        output_path: Ścieżka do pliku wyjściowego\n",
        "        feather_px: Rozmiar strefy blendowania w pikselach\n",
        "        tile_size: Rozmiar kafelków do przetwarzania (dla zarządzania pamięcią)\n",
        "        cleanup_temp: Czy usunąć pliki tymczasowe po zakończeniu\n",
        "    \"\"\"\n",
        "\n",
        "    # Stworzenie katalogu tymczasowego\n",
        "    temp_dir = tempfile.mkdtemp(prefix='mosaic_temp_')\n",
        "    print(f\"Katalog tymczasowy: {temp_dir}\")\n",
        "\n",
        "    try:\n",
        "        # 1. Lista plików i parametry pierwszego kafla\n",
        "        files = sorted(glob.glob(os.path.join(input_folder, '*.tif')))\n",
        "        if not files:\n",
        "            raise ValueError(\"Brak plików .tif w katalogu\")\n",
        "\n",
        "        print(f\"Znaleziono {len(files)} plików do przetworzenia\")\n",
        "\n",
        "        with rasterio.open(files[0]) as src0:\n",
        "            crs    = src0.crs\n",
        "            dtype  = src0.dtypes[0]\n",
        "            res    = src0.res[0]\n",
        "            nodata = src0.nodata\n",
        "            b0     = src0.bounds\n",
        "\n",
        "        # 2. Wyznacz globalne granice bez marginesu\n",
        "        print(\"Wyznaczanie globalnych granic...\")\n",
        "        x_min, x_max = b0.left,  b0.right\n",
        "        y_min, y_max = b0.bottom, b0.top\n",
        "\n",
        "        for fn in tqdm(files[1:], desc=\"Analizowanie granic\"):\n",
        "            with rasterio.open(fn) as src:\n",
        "                b = src.bounds\n",
        "                x_min, x_max = min(x_min, b.left),  max(x_max, b.right)\n",
        "                y_min, y_max = min(y_min, b.bottom), max(y_max, b.top)\n",
        "\n",
        "        # 3. Stwórz bufor o wymiarach +2*feather_px\n",
        "        width  = int(np.ceil((x_max - x_min) / res)) + 2 * feather_px\n",
        "        height = int(np.ceil((y_max - y_min) / res)) + 2 * feather_px\n",
        "        transform = from_origin(\n",
        "            x_min - feather_px * res,\n",
        "            y_max + feather_px * res,\n",
        "            res, res\n",
        "        )\n",
        "\n",
        "        print(f\"Wymiary końcowej mozaiki: {width}x{height} pikseli\")\n",
        "        print(f\"Szacowany rozmiar: {width * height * 8 / (1024**3):.2f} GB (float64)\")\n",
        "\n",
        "        # Tworzenie plików tymczasowych dla minimum, wag i pomocniczych\n",
        "        min_values_path = os.path.join(temp_dir, 'min_values.dat')\n",
        "        blend_weights_path = os.path.join(temp_dir, 'blend_weights.dat')\n",
        "        has_data_path = os.path.join(temp_dir, 'has_data.dat')\n",
        "\n",
        "        # Inicjalizacja plików tymczasowych\n",
        "        print(\"Inicjalizacja plików tymczasowych...\")\n",
        "        _initialize_temp_files_min(min_values_path, blend_weights_path, has_data_path, height, width)\n",
        "\n",
        "        # parametry gaussa\n",
        "        sigma = feather_px / 2.0\n",
        "\n",
        "        # 4. Przetwarzaj każdy kafel\n",
        "        print(\"Przetwarzanie kafelków...\")\n",
        "        for i, fn in enumerate(tqdm(files, desc=\"Przetwarzanie kafelków\")):\n",
        "            _process_tile_min(fn, min_values_path, blend_weights_path, has_data_path,\n",
        "                         height, width, nodata, feather_px, sigma,\n",
        "                         x_min, y_max, res, tile_size)\n",
        "\n",
        "            # Monitorowanie pamięci\n",
        "            if i % 10 == 0:\n",
        "                memory_percent = psutil.virtual_memory().percent\n",
        "                print(f\"Użycie pamięci: {memory_percent:.1f}%\")\n",
        "                if memory_percent > 85:\n",
        "                    print(\"Wysoki poziom używania pamięci - wymuszanie garbage collection\")\n",
        "                    gc.collect()\n",
        "\n",
        "        # 5. Finalna mozaika - przetwarzanie kafelkami\n",
        "        print(\"Tworzenie finalnej mozaiki z blendowaniem...\")\n",
        "        _create_final_mosaic_min(min_values_path, blend_weights_path, has_data_path,\n",
        "                           output_path, height, width, dtype, nodata,\n",
        "                           crs, transform, tile_size, feather_px, sigma)\n",
        "\n",
        "        print(f\"Mozaika zapisana: {output_path}\")\n",
        "        print(f\"Granice mozaiki: {x_min}, {y_min}, {x_max}, {y_max}\")\n",
        "\n",
        "    finally:\n",
        "        # Sprzątanie plików tymczasowych\n",
        "        if cleanup_temp:\n",
        "            print(\"Usuwanie plików tymczasowych...\")\n",
        "            shutil.rmtree(temp_dir)\n",
        "        else:\n",
        "            print(f\"Pliki tymczasowe zachowane w: {temp_dir}\")\n",
        "\n",
        "\n",
        "def _initialize_temp_files_min(min_values_path: str, blend_weights_path: str,\n",
        "                              has_data_path: str, height: int, width: int):\n",
        "    \"\"\"Inicjalizacja plików tymczasowych z wartościami początkowymi\"\"\"\n",
        "\n",
        "    # Tworzenie plików jako memory-mapped arrays\n",
        "    min_values = np.memmap(min_values_path, dtype='float64', mode='w+',\n",
        "                          shape=(height, width))\n",
        "    blend_weights = np.memmap(blend_weights_path, dtype='float64', mode='w+',\n",
        "                             shape=(height, width))\n",
        "    has_data = np.memmap(has_data_path, dtype='bool', mode='w+',\n",
        "                        shape=(height, width))\n",
        "\n",
        "    # Inicjalizacja w blokach\n",
        "    block_size = 1024\n",
        "    for i in tqdm(range(0, height, block_size), desc=\"Inicjalizacja plików temp\"):\n",
        "        end_i = min(i + block_size, height)\n",
        "        min_values[i:end_i, :] = np.inf  # Inicjalizacja z nieskończonością dla minimum\n",
        "        blend_weights[i:end_i, :] = 0.0\n",
        "        has_data[i:end_i, :] = False\n",
        "\n",
        "    # Wymuszenie zapisu na dysk\n",
        "    del min_values, blend_weights, has_data\n",
        "\n",
        "\n",
        "def _process_tile_min(fn: str, min_values_path: str, blend_weights_path: str,\n",
        "                     has_data_path: str, height: int, width: int, nodata: float,\n",
        "                     feather_px: int, sigma: float, x_min: float, y_max: float,\n",
        "                     res: float, tile_size: int):\n",
        "    \"\"\"Przetwarzanie pojedynczego kafla z wyborem minimum\"\"\"\n",
        "\n",
        "    with rasterio.open(fn) as src:\n",
        "        arr = src.read(1).astype('float64')\n",
        "        mask_nodata = (arr == nodata)\n",
        "\n",
        "        h, w = src.shape\n",
        "\n",
        "        # odległość do najbliższej krawędzi kafla\n",
        "        yy = np.arange(h).reshape(h, 1)\n",
        "        xx = np.arange(w).reshape(1, w)\n",
        "        dist_x = np.minimum(xx, w - 1 - xx)\n",
        "        dist_y = np.minimum(yy, h - 1 - yy)\n",
        "        dist   = np.minimum(dist_x, dist_y).astype('float64')\n",
        "\n",
        "        # macierz wag dla blendowania (tylko na krawędziach)\n",
        "        w_mat = np.ones_like(dist)\n",
        "        if feather_px > 0:\n",
        "            feather_zone = (dist < feather_px)\n",
        "            # Liniowy spadek wagi od 1.0 do 0.0 w strefie blendowania\n",
        "            w_mat[feather_zone] = dist[feather_zone] / feather_px\n",
        "\n",
        "        # Ustawienie wag na 0 dla nodata\n",
        "        w_mat[mask_nodata] = 0.0\n",
        "\n",
        "        # Ustawienie wartości na infinity dla nodata (nie wpływa na minimum)\n",
        "        arr[mask_nodata] = np.inf\n",
        "\n",
        "        # offsety w buforze (w pikselach)\n",
        "        col_off = int((src.bounds.left  - x_min) / res) + feather_px\n",
        "        row_off = int((y_max - src.bounds.top) / res) + feather_px\n",
        "        r0, r1 = row_off, row_off + h\n",
        "        c0, c1 = col_off, col_off + w\n",
        "\n",
        "        # Otwarcie plików tymczasowych\n",
        "        min_values = np.memmap(min_values_path, dtype='float64', mode='r+',\n",
        "                              shape=(height, width))\n",
        "        blend_weights = np.memmap(blend_weights_path, dtype='float64', mode='r+',\n",
        "                                 shape=(height, width))\n",
        "        has_data = np.memmap(has_data_path, dtype='bool', mode='r+',\n",
        "                            shape=(height, width))\n",
        "\n",
        "        # Akumulacja w blokach\n",
        "        block_h = min(tile_size, h)\n",
        "        block_w = min(tile_size, w)\n",
        "\n",
        "        for i in range(0, h, block_h):\n",
        "            for j in range(0, w, block_w):\n",
        "                end_i = min(i + block_h, h)\n",
        "                end_j = min(j + block_w, w)\n",
        "\n",
        "                arr_block = arr[i:end_i, j:end_j]\n",
        "                w_block = w_mat[i:end_i, j:end_j]\n",
        "                valid_block = ~mask_nodata[i:end_i, j:end_j]\n",
        "\n",
        "                r0_block = r0 + i\n",
        "                r1_block = r0 + end_i\n",
        "                c0_block = c0 + j\n",
        "                c1_block = c0 + end_j\n",
        "\n",
        "                # Tylko dla pikseli z wartymi danymi\n",
        "                if np.any(valid_block):\n",
        "                    # Aktualizacja minimum\n",
        "                    current_min = min_values[r0_block:r1_block, c0_block:c1_block]\n",
        "                    new_min = np.minimum(current_min, arr_block)\n",
        "                    min_values[r0_block:r1_block, c0_block:c1_block] = new_min\n",
        "\n",
        "                    # Akumulacja wag dla blendowania\n",
        "                    blend_weights[r0_block:r1_block, c0_block:c1_block] += w_block * valid_block\n",
        "\n",
        "                    # Oznaczenie obszarów z danymi\n",
        "                    has_data[r0_block:r1_block, c0_block:c1_block] |= valid_block\n",
        "\n",
        "        # Czyszczenie referencji\n",
        "        del min_values, blend_weights, has_data, arr, w_mat\n",
        "\n",
        "\n",
        "def _create_final_mosaic_min(min_values_path: str, blend_weights_path: str,\n",
        "                            has_data_path: str, output_path: str, height: int, width: int,\n",
        "                            dtype: str, nodata: float, crs, transform,\n",
        "                            tile_size: int, feather_px: int, sigma: float):\n",
        "    \"\"\"Tworzenie finalnej mozaiki z liniowym blendowaniem Gaussa\"\"\"\n",
        "\n",
        "    # Otwarcie plików tymczasowych\n",
        "    min_values = np.memmap(min_values_path, dtype='float64', mode='r',\n",
        "                          shape=(height, width))\n",
        "    blend_weights = np.memmap(blend_weights_path, dtype='float64', mode='r',\n",
        "                             shape=(height, width))\n",
        "    has_data = np.memmap(has_data_path, dtype='bool', mode='r',\n",
        "                        shape=(height, width))\n",
        "\n",
        "    # Profil dla pliku wyjściowego\n",
        "    profile = {\n",
        "        'driver': 'GTiff',\n",
        "        'dtype': dtype,\n",
        "        'count': 1,\n",
        "        'crs': crs,\n",
        "        'transform': transform,\n",
        "        'width': width,\n",
        "        'height': height,\n",
        "        'nodata': nodata,\n",
        "        'compress': 'lzw',\n",
        "        'tiled': True,\n",
        "        'blockxsize': 512,\n",
        "        'blockysize': 512\n",
        "    }\n",
        "\n",
        "    with rasterio.open(output_path, 'w', **profile) as dst:\n",
        "        # Przetwarzanie w blokach\n",
        "        for i in tqdm(range(0, height, tile_size), desc=\"Zapisywanie mozaiki\"):\n",
        "            end_i = min(i + tile_size, height)\n",
        "\n",
        "            for j in range(0, width, tile_size):\n",
        "                end_j = min(j + tile_size, width)\n",
        "\n",
        "                # Wczytanie bloków\n",
        "                min_block = min_values[i:end_i, j:end_j]\n",
        "                weights_block = blend_weights[i:end_i, j:end_j]\n",
        "                data_block = has_data[i:end_i, j:end_j]\n",
        "\n",
        "                # Przygotowanie wyniku\n",
        "                result_block = np.full((end_i - i, end_j - j), nodata, dtype='float64')\n",
        "\n",
        "                # Obszary z danymi\n",
        "                valid = data_block & (min_block != np.inf)\n",
        "\n",
        "                if np.any(valid):\n",
        "                    # Podstawowe wartości minimum\n",
        "                    result_block[valid] = min_block[valid]\n",
        "\n",
        "                    # Zastosowanie blendowania Gaussa na krawędziach\n",
        "                    # Tworzenie maski krawędzi (obszary z wagami < 1.0)\n",
        "                    edge_mask = valid & (weights_block < 0.99) & (weights_block > 0.01)\n",
        "\n",
        "                    if np.any(edge_mask):\n",
        "                        # Liniowe blendowanie z filtrem Gaussa\n",
        "                        gauss_weights = np.exp(-((1.0 - weights_block[edge_mask])**2) / (2 * (sigma/feather_px)**2))\n",
        "\n",
        "                        # Płynne przejście między wartościami\n",
        "                        result_block[edge_mask] = (\n",
        "                            min_block[edge_mask] * gauss_weights +\n",
        "                            result_block[edge_mask] * (1 - gauss_weights)\n",
        "                        )\n",
        "\n",
        "                # Zapis bloku\n",
        "                dst.write(result_block.astype(dtype), 1,\n",
        "                         window=rasterio.windows.Window(j, i, end_j - j, end_i - i))\n",
        "\n",
        "    # Czyszczenie\n",
        "    del min_values, blend_weights, has_data\n",
        "\n",
        "\n",
        "def get_memory_usage():\n",
        "    \"\"\"Zwraca aktualne użycie pamięci w GB\"\"\"\n",
        "    return psutil.virtual_memory().used / (1024**3)\n",
        "\n",
        "\n",
        "def estimate_memory_requirements(input_folder: str, feather_px: int = 20):\n",
        "    \"\"\"Szacuje wymagania pamięciowe dla mozaiki\"\"\"\n",
        "\n",
        "    files = sorted(glob.glob(os.path.join(input_folder, '*.tif')))\n",
        "    if not files:\n",
        "        return 0\n",
        "\n",
        "    with rasterio.open(files[0]) as src0:\n",
        "        res = src0.res[0]\n",
        "        b0 = src0.bounds\n",
        "\n",
        "    x_min, x_max = b0.left, b0.right\n",
        "    y_min, y_max = b0.bottom, b0.top\n",
        "\n",
        "    for fn in files[1:]:\n",
        "        with rasterio.open(fn) as src:\n",
        "            b = src.bounds\n",
        "            x_min, x_max = min(x_min, b.left), max(x_max, b.right)\n",
        "            y_min, y_max = min(y_min, b.bottom), max(y_max, b.top)\n",
        "\n",
        "    width = int(np.ceil((x_max - x_min) / res)) + 2 * feather_px\n",
        "    height = int(np.ceil((y_max - y_min) / res)) + 2 * feather_px\n",
        "\n",
        "    # Szacowanie rozmiaru (3 macierze: 2x float64 + 1x bool + bufor)\n",
        "    size_gb = (width * height * (8 + 8 + 1)) / (1024**3)\n",
        "\n",
        "    return size_gb, width, height\n",
        "\n",
        "\n",
        "def clip_raster_to_mask(raster_path, mask_path, layer=None, output_path=None):\n",
        "    \"\"\"\n",
        "    Przytnie rastr do obszaru zdefiniowanego w pliku .gpkg.\n",
        "\n",
        "    :param raster_path: ścieżka do wejściowego pliku .tif\n",
        "    :param mask_path: ścieżka do pliku .gpkg z maską\n",
        "    :param layer: (opcjonalnie) nazwa warstwy w .gpkg; jeśli None, używa pierwszej\n",
        "    :param output_path: (opcjonalnie) ścieżka do zapisu wynikowego .tif\n",
        "    :return: ścieżka do przyciętego rastra\n",
        "    \"\"\"\n",
        "    import geopandas as gpd\n",
        "    from rasterio.mask import mask\n",
        "\n",
        "    # wczytaj maskę\n",
        "    mask_gdf = gpd.read_file(mask_path, layer=layer)\n",
        "    geoms = mask_gdf.geometry.values\n",
        "\n",
        "    # otwórz rastr i przytnij\n",
        "    with rasterio.open(raster_path) as src:\n",
        "        out_image, out_transform = mask(src, geoms, crop=True)\n",
        "        out_meta = src.meta.copy()\n",
        "\n",
        "    # zaktualizuj metadane\n",
        "    out_meta.update({\n",
        "        \"driver\": \"GTiff\",\n",
        "        \"height\": out_image.shape[1],\n",
        "        \"width\":  out_image.shape[2],\n",
        "        \"transform\": out_transform\n",
        "    })\n",
        "\n",
        "    # wyznacz ścieżkę wyjściową, jeśli nie podano\n",
        "    if output_path is None:\n",
        "        output_path = raster_path.replace(\".tif\", \"_clipped.tif\")\n",
        "\n",
        "    # zapisz przycięty rastr\n",
        "    with rasterio.open(output_path, \"w\", **out_meta) as dest:\n",
        "        dest.write(out_image)\n",
        "\n",
        "    return output_path\n",
        "\n",
        "\n",
        "input_folder = r'/content/tile_outdoor_comfort'\n",
        "output_file = 'Pila_outdoor_comfort.tif'\n",
        "\n",
        "# Szacowanie wymagań pamięciowych\n",
        "print(\"Szacowanie wymagań pamięciowych...\")\n",
        "memory_gb, w, h = estimate_memory_requirements(input_folder, feather_px=20)\n",
        "print(f\"Szacowany rozmiar danych: {memory_gb:.2f} GB\")\n",
        "print(f\"Wymiary: {w}x{h} pikseli\")\n",
        "\n",
        "available_memory = psutil.virtual_memory().available / (1024**3)\n",
        "print(f\"Dostępna pamięć: {available_memory:.2f} GB\")\n",
        "\n",
        "# Dostosowanie rozmiaru kafelków na podstawie dostępnej pamięci\n",
        "if memory_gb > available_memory * 0.8:\n",
        "    tile_size = 1024\n",
        "    print(\"Duże dane - używanie małych kafelków (1024px)\")\n",
        "else:\n",
        "    tile_size = 2048\n",
        "    print(\"Używanie standardowych kafelków (2048px)\")\n",
        "\n",
        "# Uruchomienie mozaikowania\n",
        "mosaic_with_gauss_grid(\n",
        "        input_folder,\n",
        "        output_file,\n",
        "        feather_px=40,\n",
        "        tile_size=tile_size,\n",
        "        cleanup_temp=True\n",
        ")"
      ],
      "metadata": {
        "colab": {
          "base_uri": "https://localhost:8080/"
        },
        "id": "HFBSsPGyLEg-",
        "outputId": "27f87d0c-fd51-4682-a094-29fe6e92e363"
      },
      "execution_count": null,
      "outputs": [
        {
          "output_type": "stream",
          "name": "stdout",
          "text": [
            "Szacowanie wymagań pamięciowych...\n",
            "Szacowany rozmiar danych: 0.13 GB\n",
            "Wymiary: 2654x3102 pikseli\n",
            "Dostępna pamięć: 11.22 GB\n",
            "Używanie standardowych kafelków (2048px)\n",
            "Katalog tymczasowy: /tmp/mosaic_temp_xic6x6ns\n",
            "Znaleziono 26 plików do przetworzenia\n",
            "Wyznaczanie globalnych granic...\n"
          ]
        },
        {
          "output_type": "stream",
          "name": "stderr",
          "text": [
            "Analizowanie granic: 100%|██████████| 25/25 [00:00<00:00, 399.81it/s]\n"
          ]
        },
        {
          "output_type": "stream",
          "name": "stdout",
          "text": [
            "Wymiary końcowej mozaiki: 2694x3142 pikseli\n",
            "Szacowany rozmiar: 0.06 GB (float64)\n",
            "Inicjalizacja plików tymczasowych...\n"
          ]
        },
        {
          "output_type": "stream",
          "name": "stderr",
          "text": [
            "Inicjalizacja plików temp: 100%|██████████| 4/4 [00:00<00:00, 13.76it/s]\n"
          ]
        },
        {
          "output_type": "stream",
          "name": "stdout",
          "text": [
            "Przetwarzanie kafelków...\n"
          ]
        },
        {
          "output_type": "stream",
          "name": "stderr",
          "text": [
            "Przetwarzanie kafelków:  15%|█▌        | 4/26 [00:00<00:00, 37.95it/s]"
          ]
        },
        {
          "output_type": "stream",
          "name": "stdout",
          "text": [
            "Użycie pamięci: 11.3%\n"
          ]
        },
        {
          "output_type": "stream",
          "name": "stderr",
          "text": [
            "Przetwarzanie kafelków:  65%|██████▌   | 17/26 [00:00<00:00, 39.69it/s]"
          ]
        },
        {
          "output_type": "stream",
          "name": "stdout",
          "text": [
            "Użycie pamięci: 11.3%\n"
          ]
        },
        {
          "output_type": "stream",
          "name": "stderr",
          "text": [
            "Przetwarzanie kafelków: 100%|██████████| 26/26 [00:00<00:00, 39.51it/s]\n"
          ]
        },
        {
          "output_type": "stream",
          "name": "stdout",
          "text": [
            "Użycie pamięci: 11.3%\n",
            "Tworzenie finalnej mozaiki z blendowaniem...\n"
          ]
        },
        {
          "output_type": "stream",
          "name": "stderr",
          "text": [
            "Zapisywanie mozaiki: 100%|██████████| 2/2 [00:00<00:00,  2.76it/s]"
          ]
        },
        {
          "output_type": "stream",
          "name": "stdout",
          "text": [
            "Mozaika zapisana: Pila_outdoor_comfort.tif\n",
            "Granice mozaiki: 343756.891, 580176.3482654289, 356823.45580114773, 595485.8059\n",
            "Usuwanie plików tymczasowych...\n"
          ]
        },
        {
          "output_type": "stream",
          "name": "stderr",
          "text": [
            "\n"
          ]
        }
      ]
    }
  ]
}